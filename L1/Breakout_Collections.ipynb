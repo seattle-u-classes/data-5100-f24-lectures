{
 "cells": [
  {
   "cell_type": "markdown",
   "metadata": {},
   "source": [
    "# Breakout: Collections\n",
    "The purpose of this breakout is to help you familiarize yourself with Python's various collection objects. We haven't learned how to do everything that is asked, so you might need to do some Googling. This type of self-teaching is an important part of writing code. "
   ]
  },
  {
   "cell_type": "markdown",
   "metadata": {},
   "source": [
    "## Lists"
   ]
  },
  {
   "cell_type": "code",
   "execution_count": null,
   "metadata": {
    "collapsed": true,
    "jupyter": {
     "outputs_hidden": true
    }
   },
   "outputs": [],
   "source": [
    "list_a = [0.151, 0.584, 0.37, 0.762, 0.192, 0.965, 0.166, 0.903, 0.621, 0.485, 0.238, 0.737, 0.238, 0.388, 0.005, 0.383, 0.36, 0.788, 0.357, 0.864, 0.641, 0.769, 0.584, 0.387, 0.672, 0.59, 0.125, 0.218, 0.631, 0.386, 0.325, 0.802, 0.87, 0.575, 0.694, 0.734, 0.133, 0.803, 0.261, 0.482, 0.997, 0.225, 0.231, 0.756, 0.903, 0.065, 0.095, 0.456, 0.748, 0.053]"
   ]
  },
  {
   "cell_type": "markdown",
   "metadata": {},
   "source": [
    "In a single line, create a new list called `list_b` which contains the elements of `list_a`, but sorted from largest to smallest"
   ]
  },
  {
   "cell_type": "code",
   "execution_count": null,
   "metadata": {
    "collapsed": true,
    "jupyter": {
     "outputs_hidden": true
    }
   },
   "outputs": [],
   "source": []
  },
  {
   "cell_type": "markdown",
   "metadata": {},
   "source": [
    "Now define, in a single line, a variable `list_b_verified` that is equal to `True` if each element of `list_b` also appears in `list_a`"
   ]
  },
  {
   "cell_type": "code",
   "execution_count": null,
   "metadata": {
    "collapsed": true,
    "jupyter": {
     "outputs_hidden": true
    }
   },
   "outputs": [],
   "source": []
  },
  {
   "cell_type": "markdown",
   "metadata": {},
   "source": [
    "## Sets\n",
    "We didn't discuss sets yet, but they are another Python collection that come up often enough. Think of a set as a list that is restricted to having unique elements."
   ]
  },
  {
   "cell_type": "code",
   "execution_count": null,
   "metadata": {
    "collapsed": true,
    "jupyter": {
     "outputs_hidden": true
    }
   },
   "outputs": [],
   "source": [
    "list_1 = list(range(15)) # Integers 0 - 14\n",
    "list_2 = list(range(10, 25)) # Integers 10 - 24\n",
    "\n",
    "# Define sets corresponding to each list\n",
    "set_1 = set(list_1) \n",
    "set_2 = set(list_2) "
   ]
  },
  {
   "cell_type": "markdown",
   "metadata": {},
   "source": [
    "Print out each of the sets: do they contain different values from the lists they were generated from?"
   ]
  },
  {
   "cell_type": "code",
   "execution_count": null,
   "metadata": {
    "collapsed": true,
    "jupyter": {
     "outputs_hidden": true
    }
   },
   "outputs": [],
   "source": []
  },
  {
   "cell_type": "markdown",
   "metadata": {},
   "source": [
    "Now let's work with some new set operations. For a method associated with a set object called `set_function`, you can compare something about two sets by doing: `set_1.set_function(set_2)`. With that general framework, play around with the set methods `union`, `intersection`, and `symmetric_difference`. What do each of those methods tell you about the two sets?"
   ]
  },
  {
   "cell_type": "code",
   "execution_count": null,
   "metadata": {
    "collapsed": true,
    "jupyter": {
     "outputs_hidden": true
    }
   },
   "outputs": [],
   "source": []
  },
  {
   "cell_type": "code",
   "execution_count": null,
   "metadata": {
    "collapsed": true,
    "jupyter": {
     "outputs_hidden": true
    }
   },
   "outputs": [],
   "source": []
  },
  {
   "cell_type": "code",
   "execution_count": null,
   "metadata": {
    "collapsed": true,
    "jupyter": {
     "outputs_hidden": true
    }
   },
   "outputs": [],
   "source": []
  },
  {
   "cell_type": "markdown",
   "metadata": {},
   "source": [
    "## Dictionaries\n",
    "It is often useful to loop through the elements in a dictionary so that you can apply some operations to each of the keys and/or values contained therein. For example, with the simple dictionary `a` below, we can print out the keys and values as follows:"
   ]
  },
  {
   "cell_type": "code",
   "execution_count": null,
   "metadata": {
    "collapsed": true,
    "jupyter": {
     "outputs_hidden": true
    },
    "scrolled": true
   },
   "outputs": [],
   "source": [
    "a = {\"a\": 1, \"b\": 2, \"c\": 3}\n",
    "\n",
    "for key, val in a.items():\n",
    "    print(key, val)"
   ]
  },
  {
   "cell_type": "markdown",
   "metadata": {},
   "source": [
    "Now try something a little more complicated. We have a nested dictionary `d` below which contains students' names, grade in a course, and year in school, where all the names are organized under a key corresponding to the first letter of their name. Write a loop that goes through the dictionary and prints out each students' name and grade. You should *not* print out the first letter of their names separate from their names, or their year in school."
   ]
  },
  {
   "cell_type": "code",
   "execution_count": null,
   "metadata": {
    "collapsed": true,
    "jupyter": {
     "outputs_hidden": true
    }
   },
   "outputs": [],
   "source": [
    "d = {\"a\": {\n",
    "        \"Adam\": {\"grade\": \"B+\", \"year\": \"Junior\"}, \n",
    "        \"Alicia\": {\"grade\": \"A-\", \"year\": \"Senior\"}}, \n",
    "     \"b\": {\n",
    "         \"Ben\": {\"grade\": \"A\", \"year\": \"Senior\"},\n",
    "         \"Bethany\": {\"grade\": \"B+\", \"year\": \"Junior\"}}\n",
    "    }"
   ]
  },
  {
   "cell_type": "code",
   "execution_count": null,
   "metadata": {
    "collapsed": true,
    "jupyter": {
     "outputs_hidden": true
    }
   },
   "outputs": [],
   "source": []
  },
  {
   "cell_type": "code",
   "execution_count": null,
   "metadata": {
    "collapsed": true,
    "jupyter": {
     "outputs_hidden": true
    }
   },
   "outputs": [],
   "source": []
  }
 ],
 "metadata": {
  "kernelspec": {
   "display_name": "Python 3 (ipykernel)",
   "language": "python",
   "name": "python3"
  },
  "language_info": {
   "codemirror_mode": {
    "name": "ipython",
    "version": 3
   },
   "file_extension": ".py",
   "mimetype": "text/x-python",
   "name": "python",
   "nbconvert_exporter": "python",
   "pygments_lexer": "ipython3",
   "version": "3.9.10"
  }
 },
 "nbformat": 4,
 "nbformat_minor": 4
}
