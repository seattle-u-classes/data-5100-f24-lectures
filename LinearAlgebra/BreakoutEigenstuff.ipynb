{
 "cells": [
  {
   "cell_type": "markdown",
   "id": "ca6ef220-352b-4918-9747-89046f9c9b63",
   "metadata": {},
   "source": [
    "# Background\n",
    "The goal of this breakout is to familiarize yourself with Eigenvalue Decomposition using Python. You are provided a square matrix $A$ that all questions will be based on. "
   ]
  },
  {
   "cell_type": "code",
   "execution_count": 1,
   "id": "758bf956-badb-44f3-a76f-32f3777cb80e",
   "metadata": {},
   "outputs": [],
   "source": [
    "import numpy as np\n",
    "A = np.array([[5, 16], [-3, -9]])"
   ]
  },
  {
   "cell_type": "markdown",
   "id": "a854825c-f292-4963-8794-c7a2a4f68238",
   "metadata": {},
   "source": [
    "Read the documentation for `np.linalg.eig` ([link](https://numpy.org/doc/stable/reference/generated/numpy.linalg.eig.html)), and use it to calculate the eigenvalues $\\lambda_1$ and $\\lambda_2$ and eigenvectors $v_1$ and $v_2$ of $A$. "
   ]
  },
  {
   "cell_type": "code",
   "execution_count": null,
   "id": "5f8bd9d6-bd0e-474e-bad0-3edb76ddc1e9",
   "metadata": {},
   "outputs": [],
   "source": []
  },
  {
   "cell_type": "markdown",
   "id": "d58316ef-4c18-4050-a4fb-8e6d01b1522a",
   "metadata": {},
   "source": [
    "Calculate the matrix-vector products $A v_1$ and $A v_2$, and the vector-scalar products $\\lambda_1 v_1$ and $\\lambda_2 v_2$, and confirm that they satisfy the conditions for being eigenvalue/eigenvector pairs"
   ]
  },
  {
   "cell_type": "code",
   "execution_count": null,
   "id": "50dc91af-ee28-4cb9-9ec6-f4efefb95958",
   "metadata": {},
   "outputs": [],
   "source": []
  },
  {
   "cell_type": "markdown",
   "id": "eb5834e8-ac8c-4449-bbc3-7ecf2175a143",
   "metadata": {},
   "source": [
    "Verify our two eigenvalue sanity checks:\n",
    "1. The product of the eigenvalues is equal to $\\text{det}(A)$\n",
    "2. The sum of the eigenvalues is equal to $\\text{Tr}(A)$"
   ]
  },
  {
   "cell_type": "code",
   "execution_count": null,
   "id": "76f230a8-0a0d-4af1-a552-30f023d355cf",
   "metadata": {},
   "outputs": [],
   "source": []
  },
  {
   "cell_type": "markdown",
   "id": "ceb2c3b5-5497-4899-8eb6-42c1e7a965d5",
   "metadata": {},
   "source": [
    "Construct matrices $S$ and $\\Lambda$ that diagonalize $A$ as $A = S \\Lambda S^{-1}$, and verify that this relationship holds. "
   ]
  },
  {
   "cell_type": "code",
   "execution_count": null,
   "id": "27c3c33f-0db5-497e-995d-45fc7a80c922",
   "metadata": {},
   "outputs": [],
   "source": []
  }
 ],
 "metadata": {
  "kernelspec": {
   "display_name": "Python 3 (ipykernel)",
   "language": "python",
   "name": "python3"
  },
  "language_info": {
   "codemirror_mode": {
    "name": "ipython",
    "version": 3
   },
   "file_extension": ".py",
   "mimetype": "text/x-python",
   "name": "python",
   "nbconvert_exporter": "python",
   "pygments_lexer": "ipython3",
   "version": "3.9.10"
  }
 },
 "nbformat": 4,
 "nbformat_minor": 5
}
