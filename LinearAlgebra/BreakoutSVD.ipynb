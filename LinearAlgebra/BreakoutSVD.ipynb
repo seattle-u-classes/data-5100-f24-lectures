{
 "cells": [
  {
   "cell_type": "markdown",
   "id": "02b12eea-7afc-4969-b64b-4b8a8db34ecc",
   "metadata": {},
   "source": [
    "# Background\n",
    "The goal of this breakout is to familiarize yourself with the Singular Value Decomposition (SVD) through an image processing application"
   ]
  },
  {
   "cell_type": "markdown",
   "id": "c24c2b54-3576-41e6-bd96-d674c0678c16",
   "metadata": {},
   "source": [
    "## Part 1\n",
    "Take a picture of something on your phone, either in the classroom or outside if you want some fresh air. If you don't have a phone with a camera available, find a picture of some outdoor scenery online. Upload this image to your computer and load it into Python as a `numpy` array."
   ]
  },
  {
   "cell_type": "code",
   "execution_count": null,
   "id": "e500c7f2-6762-4316-a3cf-c8689e67afd3",
   "metadata": {},
   "outputs": [],
   "source": []
  },
  {
   "cell_type": "markdown",
   "id": "b5e8a1ee-9c25-40ff-95bc-53ea6b4ad3ab",
   "metadata": {},
   "source": [
    "## Part 2\n",
    "Calculate the SVD using `scipy.linalg.svd`. What is the rank of the original image, and how much memory does it require to store the image on your computer?"
   ]
  },
  {
   "cell_type": "code",
   "execution_count": null,
   "id": "91062e33-0223-4954-bd61-0d13d4efa50f",
   "metadata": {},
   "outputs": [],
   "source": []
  },
  {
   "cell_type": "markdown",
   "id": "b70b843b-2ec4-4c90-a887-f7a773008134",
   "metadata": {},
   "source": [
    "## Part 3\n",
    "Construct a rank-$k$ approximation of your image, where $k$ is as small as possible while still being able to recognize the main components of the image. What value of $k$ did you find, and how much memory does it require to store this reduced image on your computer? "
   ]
  },
  {
   "cell_type": "code",
   "execution_count": null,
   "id": "96c8b7af-61ec-42ec-905d-94700cc24757",
   "metadata": {},
   "outputs": [],
   "source": []
  }
 ],
 "metadata": {
  "kernelspec": {
   "display_name": "Python 3 (ipykernel)",
   "language": "python",
   "name": "python3"
  },
  "language_info": {
   "codemirror_mode": {
    "name": "ipython",
    "version": 3
   },
   "file_extension": ".py",
   "mimetype": "text/x-python",
   "name": "python",
   "nbconvert_exporter": "python",
   "pygments_lexer": "ipython3",
   "version": "3.9.10"
  }
 },
 "nbformat": 4,
 "nbformat_minor": 5
}
