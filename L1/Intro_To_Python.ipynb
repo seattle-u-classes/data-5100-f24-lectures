{
 "cells": [
  {
   "cell_type": "markdown",
   "metadata": {
    "id": "hTV7Awe2w7aQ"
   },
   "source": [
    "# Objectives"
   ]
  },
  {
   "cell_type": "markdown",
   "metadata": {
    "id": "TQShDlSXxLbQ"
   },
   "source": [
    "Introduce and/or remind everyone about:\n",
    "- General coding practices\n",
    "- Python fundamentals: variables, types, arithmetic, control flow\n",
    "\n",
    "Note: The breakout session notebooks and structure of this lecture are based on David Beck's material for his Software Engineering for Data Science course at UW ([source](https://github.com/UWDIRECT/UWDIRECT.github.io/tree/master/Wi23_content/SEDS))."
   ]
  },
  {
   "cell_type": "markdown",
   "metadata": {
    "jp-MarkdownHeadingCollapsed": true
   },
   "source": [
    "# Basics: Code, Variables, and Comments\n",
    "\n",
    "## Programming in Python\n",
    "Python is a programming language that is increasingly becoming the industry standard for data science applications. Some characteristics of Python:\n",
    "- It is a high-level language, meaning that you don't need to know much about how a computer works under the hood in order to write Python code.\n",
    "- It is an interpreted language, so unlike `C++` or `Rust` you do not need to compile your code before running it.\n",
    "- It is dynamically-typed, meaning that the type errors are not checked before runtime, and can thus cause runtime failures.\n",
    "\n",
    "### Python Setup\n",
    "If you do not have Python installed locally on your machine, you will need to do that. I would recommend following [these instructions](https://cloud.google.com/python/docs/setup#macos) up to \"Installing an Editor\". \n",
    "\n",
    "Once you have Python installed, I would recommend creating a *virtual environment* that you use exclusively for this class. The instructions linked above include a section on using `venv` to create a virtual environment, so please follow those. \n",
    "\n",
    "### Jupyter Notebooks\n",
    "In this class, we will mostly write Python code in Jupyter Notebooks, which these notes are written in. Jupyter is nice for combining text (it supports both markdown and $\\LaTeX$) with code. Both text and code go in *cells*. This paragraph is in a Markdown text cell, but the code below is in a code cell, which gets executed using whatever Python interpreter (or kernel) your computer is running. You can execute a code cell by highlighting it and pressing `Shift-Return`"
   ]
  },
  {
   "cell_type": "code",
   "execution_count": 18,
   "metadata": {},
   "outputs": [
    {
     "name": "stdout",
     "output_type": "stream",
     "text": [
      "This is a code cell that demonstrates the print function\n"
     ]
    }
   ],
   "source": [
    "print(\"This is a code cell that demonstrates the print function\")"
   ]
  },
  {
   "cell_type": "markdown",
   "metadata": {},
   "source": [
    "## Variables\n",
    "In a programming language, *variables* are the names we give to data objects so that they can be easily used (and re-used) in operations. There are a number of best practices to consider when choosing variable names in Python:\n",
    "- variable names should be `lower_case` by default\n",
    "- variable names should be intuitive and clear to readers of the code. Favor longer, clear names over abbreviated, but confusing names.\n",
    "- variables can contain the underscore `_`character to separate words. This is sometimes called \"snake-casing\"\n",
    "- variable names cannot use any of the resereved **keywords**, pre-defined variables in the Python language which you can find a list of [here](https://docs.python.org/3.8/reference/lexical_analysis.html#keywords).\n",
    "- variable names can contain numbers, e.g., `a1`, but they cannot start with a number. So something like `1a` would not be allowed.\n",
    "\n",
    "## Comments\n",
    "Comments are text annotations that we add to code so that it is clear to a reader what the code is doing. Comments can be denoted with either a `#` at the beginning of a line for a short comment, or in a block surrounded by triple quotes ` \"\"\" like this \"\"\" ` for longer comments. Your Python interpreter does not run comments as code; they are purely for you and whoever else is using the code. Nevertheless, you should think of incorrect or misleading comments as *bugs* because they can cause users to misuse or misinterpret a piece of code. Some general best practices for commenting:\n",
    "- Write comments, but not too many\n",
    "- Don't comment obvious things, e.g., `a = 5  # defining variable a`\n",
    "- Do comment potentially confusing things, though it's better to not write confusing code in the first place if you can avoid it.\n",
    "- Write your comments with proper grammar and formatting. "
   ]
  },
  {
   "cell_type": "markdown",
   "metadata": {
    "id": "1BsrYoiv7hkh"
   },
   "source": [
    "# Variable assignment and Data Types\n",
    "We assign values to variables using the `=` operator. Let's see some examples below for different data types"
   ]
  },
  {
   "cell_type": "markdown",
   "metadata": {},
   "source": [
    "## Integers and Floating Point Numbers\n",
    "Integers, or whole numbers, are an important data type in Python -- some operations will only work with integers, or will work differently with integers compared to floating point numbers, or \"floats,\" which are numbers that contain a decimal point. Much of the time in Python, they can be used interchangably when you are doing math, but it's good to keep track of your variable types regardless"
   ]
  },
  {
   "cell_type": "code",
   "execution_count": 19,
   "metadata": {
    "scrolled": true
   },
   "outputs": [
    {
     "name": "stdout",
     "output_type": "stream",
     "text": [
      "a = 2, b = 5, a + b = c = 7\n",
      "d = -3\n",
      "e = 10\n",
      "f = 2.5\n"
     ]
    }
   ],
   "source": [
    "# Numerical types, and printing using f-strings\n",
    "a = 2\n",
    "b = 5\n",
    "c = a + b  # Addition\n",
    "d = a - b  # Subtraction\n",
    "e = a * b  # Multiplication\n",
    "f = b / a  # Division\n",
    "\n",
    "print(f\"a = {a}, b = {b}, a + b = c = {c}\")\n",
    "print(f\"d = {d}\")\n",
    "print(f\"e = {e}\")\n",
    "print(f\"f = {f}\")"
   ]
  },
  {
   "cell_type": "code",
   "execution_count": 20,
   "metadata": {},
   "outputs": [
    {
     "name": "stdout",
     "output_type": "stream",
     "text": [
      "a is type <class 'int'>\n",
      "e is type <class 'int'>\n",
      "but f is type <class 'float'>\n"
     ]
    }
   ],
   "source": [
    "print(f\"a is type {type(a)}\")  # Initialized as an int by default, unless you add a decimal (e.g., a = 2.0)\n",
    "print(f\"e is type {type(e)}\")  # Type int because it is the product of two ints\n",
    "print(f\"but f is type {type(f)}\")  # Ends up being a float because it is created via float division /"
   ]
  },
  {
   "cell_type": "markdown",
   "metadata": {},
   "source": [
    "## Breakout: Simple Math In Python"
   ]
  },
  {
   "cell_type": "markdown",
   "metadata": {},
   "source": [
    "## String types\n",
    "Python has different flavors of strings, which are used to hold characters"
   ]
  },
  {
   "cell_type": "code",
   "execution_count": 21,
   "metadata": {},
   "outputs": [
    {
     "name": "stdout",
     "output_type": "stream",
     "text": [
      "this is a standard string\n",
      "this is an f-string, which can print variables in curly braces like a = 2\n"
     ]
    }
   ],
   "source": [
    "standard_string = \"this is a standard string\"\n",
    "f_string = f\"this is an f-string, which can print variables in curly braces like a = {a}\"\n",
    "\n",
    "print(standard_string)\n",
    "print(f_string)"
   ]
  },
  {
   "cell_type": "code",
   "execution_count": 22,
   "metadata": {},
   "outputs": [
    {
     "name": "stdout",
     "output_type": "stream",
     "text": [
      "a = two, b = five, a + b = c = twofive\n"
     ]
    }
   ],
   "source": [
    "a = \"two\"\n",
    "b = \"five\"\n",
    "c = a + b\n",
    "print(f\"a = {a}, b = {b}, a + b = c = {c}\")"
   ]
  },
  {
   "cell_type": "markdown",
   "metadata": {},
   "source": [
    "Clearly, addition works differently with strings than it does with numbers"
   ]
  },
  {
   "cell_type": "markdown",
   "metadata": {},
   "source": [
    "Strings have some very handy methods associated with them. Think of a method as a function that can be applied to a certain object. "
   ]
  },
  {
   "cell_type": "code",
   "execution_count": 23,
   "metadata": {},
   "outputs": [
    {
     "name": "stdout",
     "output_type": "stream",
     "text": [
      "/some/dir/on/my/machine.csv\n"
     ]
    }
   ],
   "source": [
    "file_path = \"/some/dir/on/your/machine.csv\"\n",
    "new_path = file_path.replace(\"your\", \"my\")\n",
    "print(new_path)"
   ]
  },
  {
   "cell_type": "code",
   "execution_count": 24,
   "metadata": {},
   "outputs": [
    {
     "name": "stdout",
     "output_type": "stream",
     "text": [
      "/SOME/DIR/ON/YOUR/MACHINE.CSV\n",
      "6\n"
     ]
    }
   ],
   "source": [
    "upper_path = file_path.upper()\n",
    "dir_index = file_path.index(\"dir\")\n",
    "print(upper_path)  # Convert all to upper case\n",
    "print(dir_index)  # Find index (starting at zero) where a certain substring occurs"
   ]
  },
  {
   "cell_type": "markdown",
   "metadata": {},
   "source": [
    "Here we create a new data type called a List in the `split_path` variable, then we grab the final element of the list. More on lists below. "
   ]
  },
  {
   "cell_type": "code",
   "execution_count": 25,
   "metadata": {
    "scrolled": true
   },
   "outputs": [
    {
     "name": "stdout",
     "output_type": "stream",
     "text": [
      "['', 'some', 'dir', 'on', 'your', 'machine.csv']\n",
      "machine.csv\n"
     ]
    }
   ],
   "source": [
    "split_path = file_path.split(\"/\")\n",
    "filename = file_path.split(\"/\")[-1]\n",
    "print(split_path)  \n",
    "print(filename)  "
   ]
  },
  {
   "cell_type": "markdown",
   "metadata": {
    "id": "vpK-Q9OZ9lvJ"
   },
   "source": [
    "## Lists\n",
    "Lists are mutable, ordered, container objects. This means they meaning they can store other objects within them, the objects remain in a particular order, and the elements of the list can be changed (that's the mutable part). The objects in a list do not necessarily need to be of the same type. "
   ]
  },
  {
   "cell_type": "code",
   "execution_count": 26,
   "metadata": {
    "colab": {
     "base_uri": "https://localhost:8080/"
    },
    "executionInfo": {
     "elapsed": 353,
     "status": "ok",
     "timestamp": 1711410461218,
     "user": {
      "displayName": "Galen Egan",
      "userId": "15988556419740321737"
     },
     "user_tz": 420
    },
    "id": "PpYXKh8F0uvu",
    "outputId": "a27aecc8-73d8-4ab5-be69-89f2f7578076",
    "scrolled": true
   },
   "outputs": [
    {
     "data": {
      "text/plain": [
       "['what', 'a', 'great', 'object', 'the', 'list', 'is', 987, [1, 2, 3]]"
      ]
     },
     "execution_count": 26,
     "metadata": {},
     "output_type": "execute_result"
    }
   ],
   "source": [
    "# Initialize a list with square brackets, and separate elements with commas\n",
    "my_list = [\"what\", \"a\", \"great\", \"object\", \"the\", \"list\", \"is\", 987, [1, 2, 3]]\n",
    "my_list\n",
    "\n"
   ]
  },
  {
   "cell_type": "markdown",
   "metadata": {},
   "source": [
    "Lists have a length which you can access with the `len` function:"
   ]
  },
  {
   "cell_type": "code",
   "execution_count": 27,
   "metadata": {
    "scrolled": true
   },
   "outputs": [
    {
     "name": "stdout",
     "output_type": "stream",
     "text": [
      "9\n"
     ]
    }
   ],
   "source": [
    "print(len(my_list))"
   ]
  },
  {
   "cell_type": "markdown",
   "metadata": {},
   "source": [
    "We can access individual elements of a list using square brackets. Just remember that Python indices start at `0`. This is similar to most sensible programming languages, though certain computing software packages masquerading as programming languages (MATLAB, R) index starting at `1`. Fortran does too, but Fortran gets a pass because it's so good at other stuff."
   ]
  },
  {
   "cell_type": "code",
   "execution_count": 28,
   "metadata": {},
   "outputs": [
    {
     "name": "stdout",
     "output_type": "stream",
     "text": [
      "what\n"
     ]
    }
   ],
   "source": [
    "print(my_list[0])"
   ]
  },
  {
   "cell_type": "code",
   "execution_count": 29,
   "metadata": {
    "scrolled": true
   },
   "outputs": [
    {
     "name": "stdout",
     "output_type": "stream",
     "text": [
      "a\n"
     ]
    }
   ],
   "source": [
    "print(my_list[1])"
   ]
  },
  {
   "cell_type": "code",
   "execution_count": 30,
   "metadata": {},
   "outputs": [
    {
     "name": "stdout",
     "output_type": "stream",
     "text": [
      "[1, 2, 3]\n"
     ]
    }
   ],
   "source": [
    "print(my_list[-1]) # We can also count starting at the end. This is the way to get the final element of a list"
   ]
  },
  {
   "cell_type": "code",
   "execution_count": 31,
   "metadata": {
    "scrolled": true
   },
   "outputs": [
    {
     "name": "stdout",
     "output_type": "stream",
     "text": [
      "987\n"
     ]
    }
   ],
   "source": [
    "print(my_list[-2]) "
   ]
  },
  {
   "cell_type": "markdown",
   "metadata": {},
   "source": [
    "We can access multiple elements at a time by *slicing*. This usually involves the `:` operator. "
   ]
  },
  {
   "cell_type": "code",
   "execution_count": 32,
   "metadata": {},
   "outputs": [
    {
     "data": {
      "text/plain": [
       "['what', 'a']"
      ]
     },
     "execution_count": 32,
     "metadata": {},
     "output_type": "execute_result"
    }
   ],
   "source": [
    "one_and_two = my_list[:2]  # == [my_list[0], my_list[1]] Slicing from the beginning up to and including index 1\n",
    "one_and_two"
   ]
  },
  {
   "cell_type": "code",
   "execution_count": 33,
   "metadata": {},
   "outputs": [
    {
     "data": {
      "text/plain": [
       "['great', 'object', 'the', 'list', 'is', 987, [1, 2, 3]]"
      ]
     },
     "execution_count": 33,
     "metadata": {},
     "output_type": "execute_result"
    }
   ],
   "source": [
    "start_at_two = my_list[2:]  # Slice from index 2 to the end\n",
    "start_at_two"
   ]
  },
  {
   "cell_type": "markdown",
   "metadata": {},
   "source": [
    "We can extract elements N at a time too:"
   ]
  },
  {
   "cell_type": "code",
   "execution_count": 34,
   "metadata": {},
   "outputs": [
    {
     "data": {
      "text/plain": [
       "['what', 'great', 'the', 'is', [1, 2, 3]]"
      ]
     },
     "execution_count": 34,
     "metadata": {},
     "output_type": "execute_result"
    }
   ],
   "source": [
    "every_other = my_list[::2] # Start at the beginning, go to the end, grab every second element\n",
    "every_other"
   ]
  },
  {
   "cell_type": "markdown",
   "metadata": {},
   "source": [
    "Recall that lists are mutable, meaning we can change what's in them:"
   ]
  },
  {
   "cell_type": "code",
   "execution_count": 35,
   "metadata": {
    "scrolled": true
   },
   "outputs": [
    {
     "data": {
      "text/plain": [
       "['what', 'a', 'great', 'object', 'the', 'list', 'is', 987, [1, 2, 3], 3]"
      ]
     },
     "execution_count": 35,
     "metadata": {},
     "output_type": "execute_result"
    }
   ],
   "source": [
    "my_list.append(3)  # Add something to the end\n",
    "my_list"
   ]
  },
  {
   "cell_type": "code",
   "execution_count": 36,
   "metadata": {},
   "outputs": [
    {
     "data": {
      "text/plain": [
       "['what', 4, 'great', 'object', 'the', 'list', 'is', 987, [1, 2, 3], 3]"
      ]
     },
     "execution_count": 36,
     "metadata": {},
     "output_type": "execute_result"
    }
   ],
   "source": [
    "my_list[1] = 4  # Modify the element at index 1\n",
    "my_list"
   ]
  },
  {
   "cell_type": "markdown",
   "metadata": {
    "id": "vPTx-Kiw9qeM"
   },
   "source": [
    "## Tuples\n",
    "A tuple is an immutable list: it is an ordered collection, the elements of which cannot be changed once it is initialized. You can initialize one with parentheses `()`, with items separated by a comma. "
   ]
  },
  {
   "cell_type": "code",
   "execution_count": 37,
   "metadata": {
    "colab": {
     "base_uri": "https://localhost:8080/",
     "height": 176
    },
    "executionInfo": {
     "elapsed": 277,
     "status": "error",
     "timestamp": 1711410833058,
     "user": {
      "displayName": "Galen Egan",
      "userId": "15988556419740321737"
     },
     "user_tz": 420
    },
    "id": "Elbxjt6r9wzW",
    "outputId": "bba5ecb5-ae71-49de-c2c9-2aa062ce7bbb"
   },
   "outputs": [
    {
     "data": {
      "text/plain": [
       "(1, 2, 'a', 'b')"
      ]
     },
     "execution_count": 37,
     "metadata": {},
     "output_type": "execute_result"
    }
   ],
   "source": [
    "my_tuple = (1, 2, \"a\", \"b\")\n",
    "my_tuple"
   ]
  },
  {
   "cell_type": "markdown",
   "metadata": {},
   "source": [
    "Slicing works the same:"
   ]
  },
  {
   "cell_type": "code",
   "execution_count": 38,
   "metadata": {},
   "outputs": [
    {
     "data": {
      "text/plain": [
       "(1, 2)"
      ]
     },
     "execution_count": 38,
     "metadata": {},
     "output_type": "execute_result"
    }
   ],
   "source": [
    "my_tuple[:2]"
   ]
  },
  {
   "cell_type": "markdown",
   "metadata": {},
   "source": [
    "But don't try to change anything in a tuple!"
   ]
  },
  {
   "cell_type": "code",
   "execution_count": 39,
   "metadata": {
    "scrolled": true
   },
   "outputs": [],
   "source": [
    "# my_tuple[0] = 4  # Throws a TypeError"
   ]
  },
  {
   "cell_type": "markdown",
   "metadata": {},
   "source": [
    "**Discussion: At first blush, immutability seems kind of annoying. Can you think of a situation where it's useful?**"
   ]
  },
  {
   "cell_type": "markdown",
   "metadata": {
    "id": "h_o-4jFI95xp"
   },
   "source": [
    "## Dictionaries\n",
    "Dictionaries are one of the most useful Python data types. If you know any Java, they are basically an implementation of the Java `HashMap` or a JSON blob. If you don't know any Java, don't worry -- I don't really either. \n",
    "\n",
    "You can think of dictionaries as a list where each element is not just a single value, but a key-value pair. Instead of integer indices (like the List type), you access values by passing in the corresponding key. Dictionaries are initialized with curly braces `{}`:"
   ]
  },
  {
   "cell_type": "code",
   "execution_count": 40,
   "metadata": {
    "colab": {
     "base_uri": "https://localhost:8080/"
    },
    "executionInfo": {
     "elapsed": 370,
     "status": "ok",
     "timestamp": 1711411240407,
     "user": {
      "displayName": "Galen Egan",
      "userId": "15988556419740321737"
     },
     "user_tz": 420
    },
    "id": "izwCGGFn9-Wd",
    "outputId": "55c65c14-f4f1-4933-e4c4-d93a23badc50"
   },
   "outputs": [
    {
     "name": "stdout",
     "output_type": "stream",
     "text": [
      "The value of key_1 is 42\n"
     ]
    }
   ],
   "source": [
    "sample_dict = {\"key_1\": 42, \"key_2\": 57}\n",
    "value_of_key_1 = sample_dict[\"key_1\"]\n",
    "print(f\"The value of key_1 is {value_of_key_1}\")\n"
   ]
  },
  {
   "cell_type": "markdown",
   "metadata": {},
   "source": [
    "Keys don't have to be strings, they could be integers too. It's best to keep them the same type (though this isn't enforced) "
   ]
  },
  {
   "cell_type": "code",
   "execution_count": 41,
   "metadata": {
    "scrolled": true
   },
   "outputs": [
    {
     "name": "stdout",
     "output_type": "stream",
     "text": [
      "{'one': 1, 0: 0}\n",
      "1\n",
      "0\n"
     ]
    }
   ],
   "source": [
    "a = {\"one\": 1, 0: 0}\n",
    "print(a)\n",
    "print(a[\"one\"])\n",
    "print(a[0])"
   ]
  },
  {
   "cell_type": "markdown",
   "metadata": {},
   "source": [
    "Dictionaries are particularly useful for storing numerical values along with more easily-remembered descriptions for those numerical values. For example, we could have a dictionary that stores the number of credits associated with different classes in the DATA track:"
   ]
  },
  {
   "cell_type": "code",
   "execution_count": 42,
   "metadata": {
    "scrolled": true
   },
   "outputs": [
    {
     "name": "stdout",
     "output_type": "stream",
     "text": [
      "3\n"
     ]
    }
   ],
   "source": [
    "credit_count = {\"DATA5100\": 3, \"DATA3310\": 5, \"DATA5111\": 3}\n",
    "print(credit_count[\"DATA5100\"])"
   ]
  },
  {
   "cell_type": "markdown",
   "metadata": {},
   "source": [
    "The most common example is probably the Contacts app on your phone: it maps people's names (key) to their phone number (value). But you can imagine extending this to things like prices for different items in your store, the errors from an ML model training parameter sweep, purchase history associated with different customers in your database, etc."
   ]
  },
  {
   "cell_type": "markdown",
   "metadata": {},
   "source": [
    "It's often helpful to *nest* dictionaries, meaning to have sub-dictionaries as the values of higher-level keys:"
   ]
  },
  {
   "cell_type": "code",
   "execution_count": 43,
   "metadata": {},
   "outputs": [
    {
     "name": "stdout",
     "output_type": "stream",
     "text": [
      "{'level_1_key': {'level_2_key': {'level_3_key': \"finally, a value that isn't another dictionary\"}}}\n",
      "finally, a value that isn't another dictionary\n"
     ]
    }
   ],
   "source": [
    "nested_dict = {\n",
    "    \"level_1_key\": {\n",
    "        \"level_2_key\": {\n",
    "            \"level_3_key\": \"finally, a value that isn't another dictionary\"\n",
    "            }\n",
    "        }\n",
    "    }\n",
    "value = nested_dict[\"level_1_key\"][\"level_2_key\"][\"level_3_key\"]  # Can extract with multiple keys at once\n",
    "print(nested_dict)\n",
    "print(value)"
   ]
  },
  {
   "cell_type": "markdown",
   "metadata": {},
   "source": [
    "## Breakout: Collections"
   ]
  },
  {
   "cell_type": "markdown",
   "metadata": {
    "id": "oKJmdug6-7Bl"
   },
   "source": [
    "# Flow Control\n",
    "Flow control refers to the logic that dictates what code gets run, and when. In other words, the logical flow of all the code in a script or a notebook cell. We can control that logical flow using a combination of Logical Operators and Looping Operators. "
   ]
  },
  {
   "cell_type": "markdown",
   "metadata": {
    "id": "ELwlSAf7_Ay9"
   },
   "source": [
    "## Logical Operators\n",
    "Logical operators implement Boolean logic, i.e., handling when things are either True or False "
   ]
  },
  {
   "cell_type": "markdown",
   "metadata": {},
   "source": [
    "Python has the variables `True` and `False` as reserved keywords. You can use them as-is, or assign them to other variables:"
   ]
  },
  {
   "cell_type": "code",
   "execution_count": 44,
   "metadata": {
    "scrolled": true
   },
   "outputs": [
    {
     "name": "stdout",
     "output_type": "stream",
     "text": [
      "True\n",
      "True\n",
      "False\n"
     ]
    }
   ],
   "source": [
    "a = True\n",
    "b = False\n",
    "c = False\n",
    "print(a)\n",
    "print(True)\n",
    "print(c)"
   ]
  },
  {
   "cell_type": "markdown",
   "metadata": {},
   "source": [
    "We can string different Boolean variables together using other logical operators: `and`, `or`, `not` "
   ]
  },
  {
   "cell_type": "code",
   "execution_count": 45,
   "metadata": {},
   "outputs": [
    {
     "name": "stdout",
     "output_type": "stream",
     "text": [
      "True\n"
     ]
    }
   ],
   "source": [
    "# or gives True if one or the other is True\n",
    "print(a or b)"
   ]
  },
  {
   "cell_type": "code",
   "execution_count": 46,
   "metadata": {},
   "outputs": [
    {
     "name": "stdout",
     "output_type": "stream",
     "text": [
      "False\n"
     ]
    }
   ],
   "source": [
    "# and only gives True if both are True\n",
    "print(a and b)"
   ]
  },
  {
   "cell_type": "code",
   "execution_count": 47,
   "metadata": {},
   "outputs": [
    {
     "name": "stdout",
     "output_type": "stream",
     "text": [
      "False\n"
     ]
    }
   ],
   "source": [
    "# not will negate:\n",
    "print(not a)"
   ]
  },
  {
   "cell_type": "code",
   "execution_count": 48,
   "metadata": {},
   "outputs": [
    {
     "name": "stdout",
     "output_type": "stream",
     "text": [
      "True\n"
     ]
    }
   ],
   "source": [
    "# can get complicated!\n",
    "print((not b and a) or (b and c))"
   ]
  },
  {
   "cell_type": "markdown",
   "metadata": {},
   "source": [
    "These logical statements are usually used into control flow within the context of `if/elif/else` blocks. These blocks can be initialized with the `if` keyword, followed by a logical statement, followed by a `:`. The code on the next line, which must be indented, will only get run if the preceding statement evaluated to `True`"
   ]
  },
  {
   "cell_type": "code",
   "execution_count": 49,
   "metadata": {
    "colab": {
     "base_uri": "https://localhost:8080/"
    },
    "executionInfo": {
     "elapsed": 272,
     "status": "ok",
     "timestamp": 1711411449552,
     "user": {
      "displayName": "Galen Egan",
      "userId": "15988556419740321737"
     },
     "user_tz": 420
    },
    "id": "dZ-gCGOt_Ssi",
    "outputId": "a9aaca0d-5237-4b74-b4a1-eaece8ffa2fc"
   },
   "outputs": [
    {
     "name": "stdout",
     "output_type": "stream",
     "text": [
      "Must have been true\n",
      "There we go\n"
     ]
    }
   ],
   "source": [
    "# If/elif/else\n",
    "if a:\n",
    "  print(\"Must have been true\")\n",
    "\n",
    "if b:\n",
    "  print(\"This will never get printed\")\n",
    "elif c:\n",
    "  print(\"Nor will this\")\n",
    "else:\n",
    "  print(\"There we go\")"
   ]
  },
  {
   "cell_type": "markdown",
   "metadata": {},
   "source": [
    "We can do logical operations with numbers too. Here we compare magnitudes with `>`, `<`, `==`, and `<=`"
   ]
  },
  {
   "cell_type": "code",
   "execution_count": 50,
   "metadata": {},
   "outputs": [
    {
     "name": "stdout",
     "output_type": "stream",
     "text": [
      "5 > 4 is True\n",
      "3 < 4 is True\n",
      "1 == 2 is False\n",
      "2 <= 2 is True\n"
     ]
    }
   ],
   "source": [
    "# Logical operations on numbers\n",
    "print(f\"5 > 4 is {5 > 4}\")  # Greater than\n",
    "print(f\"3 < 4 is {3 < 4}\")  # Less than\n",
    "print(f\"1 == 2 is {1 == 2}\")  # Equal to\n",
    "print(f\"2 <= 2 is {2 <= 2}\")  # Less than or equal to"
   ]
  },
  {
   "cell_type": "markdown",
   "metadata": {},
   "source": [
    "Python considers any nonzero number as `True` by default:"
   ]
  },
  {
   "cell_type": "code",
   "execution_count": 51,
   "metadata": {},
   "outputs": [
    {
     "name": "stdout",
     "output_type": "stream",
     "text": [
      "No, everything else is True\n"
     ]
    }
   ],
   "source": [
    "if 0:\n",
    "    print(\"Zero is True?\")\n",
    "\n",
    "if 467:\n",
    "    print(\"No, everything else is True\")"
   ]
  },
  {
   "cell_type": "markdown",
   "metadata": {},
   "source": [
    "We can do logical operations on collections too, often using the built-in functions `all` and `any`"
   ]
  },
  {
   "cell_type": "code",
   "execution_count": 52,
   "metadata": {
    "scrolled": true
   },
   "outputs": [
    {
     "name": "stdout",
     "output_type": "stream",
     "text": [
      "all_true_list is all True\n",
      "and it also satisfies the any condition: True\n",
      "but none_true_list returns False because all elements are False\n"
     ]
    }
   ],
   "source": [
    "all_true_list = [1, 2, 3, 4]\n",
    "none_true_list = [0, 0, False]\n",
    "\n",
    "print(f\"all_true_list is all {all(all_true_list)}\")\n",
    "print(f\"and it also satisfies the any condition: {any(all_true_list)}\")\n",
    "print(f\"but none_true_list returns {any(none_true_list)} because all elements are False\")"
   ]
  },
  {
   "cell_type": "markdown",
   "metadata": {},
   "source": [
    "Similar to the `0` rule, empty collections are defined as `False` by default:"
   ]
  },
  {
   "cell_type": "code",
   "execution_count": 53,
   "metadata": {},
   "outputs": [
    {
     "name": "stdout",
     "output_type": "stream",
     "text": [
      "Empty lists are False\n",
      "And empty tuples also\n",
      "So are empty dicts\n"
     ]
    }
   ],
   "source": [
    "if not []:\n",
    "    print(\"Empty lists are False\")\n",
    "\n",
    "if not ():\n",
    "    print(\"And empty tuples also\")\n",
    "\n",
    "if not {}:\n",
    "    print(\"So are empty dicts\")\n"
   ]
  },
  {
   "cell_type": "markdown",
   "metadata": {
    "id": "O9nWAC4y-8vf"
   },
   "source": [
    "## For Loops\n",
    "A for-loop is a way to run the same portion of code some predetermined number of times. Their structure is shown below, where we use the `range` function to generate an \"iterable\" of integers between 0 - 9 (starts at 0, ends at the argument non-inclusively)."
   ]
  },
  {
   "cell_type": "code",
   "execution_count": 54,
   "metadata": {
    "colab": {
     "base_uri": "https://localhost:8080/"
    },
    "executionInfo": {
     "elapsed": 311,
     "status": "ok",
     "timestamp": 1711411914330,
     "user": {
      "displayName": "Galen Egan",
      "userId": "15988556419740321737"
     },
     "user_tz": 420
    },
    "id": "tWyi4DakBW73",
    "outputId": "bf71d0f4-461d-45ef-95b6-69761780f9a3"
   },
   "outputs": [
    {
     "name": "stdout",
     "output_type": "stream",
     "text": [
      "0\n",
      "1\n",
      "2\n",
      "3\n",
      "4\n",
      "5\n",
      "6\n",
      "7\n",
      "8\n",
      "9\n"
     ]
    }
   ],
   "source": [
    "for i in range(10):\n",
    "  print(i)"
   ]
  },
  {
   "cell_type": "markdown",
   "metadata": {},
   "source": [
    "We can also loop through collections like lists, tuples, or dicts. "
   ]
  },
  {
   "cell_type": "code",
   "execution_count": 55,
   "metadata": {},
   "outputs": [
    {
     "name": "stdout",
     "output_type": "stream",
     "text": [
      "0 10\n",
      "1 9\n",
      "2 8\n",
      "3 7\n"
     ]
    }
   ],
   "source": [
    "a = [10, 9, 8, 7]\n",
    "for index, elem in enumerate(a): # Wrapping the list in enumerate() makes it return both the element and the corresponding index\n",
    "  print(index, elem)"
   ]
  },
  {
   "cell_type": "markdown",
   "metadata": {},
   "source": [
    "Python also has a nice shortcut for-loop construct called a list comprehension"
   ]
  },
  {
   "cell_type": "code",
   "execution_count": 56,
   "metadata": {},
   "outputs": [
    {
     "name": "stdout",
     "output_type": "stream",
     "text": [
      "[20, 18, 16, 14]\n"
     ]
    }
   ],
   "source": [
    "b = [i * 2 for i in a]\n",
    "print(b)"
   ]
  },
  {
   "cell_type": "markdown",
   "metadata": {
    "id": "jPoBXcHh--PN"
   },
   "source": [
    "## While Loops\n",
    "Sometimes you don't know how many times you want to repeat a section of code, but you do know that you want it to keep running until some condition is met. This is common in numerical analysis when you want to iteratively solve a set of equations within some error tolerance. "
   ]
  },
  {
   "cell_type": "code",
   "execution_count": 57,
   "metadata": {
    "colab": {
     "base_uri": "https://localhost:8080/"
    },
    "executionInfo": {
     "elapsed": 283,
     "status": "ok",
     "timestamp": 1711412045775,
     "user": {
      "displayName": "Galen Egan",
      "userId": "15988556419740321737"
     },
     "user_tz": 420
    },
    "id": "CRSSbVi3_FjO",
    "outputId": "bab4b51e-cd4e-4998-df5e-83ede197fdef"
   },
   "outputs": [
    {
     "name": "stdout",
     "output_type": "stream",
     "text": [
      "100\n",
      "90\n",
      "80\n",
      "70\n",
      "60\n"
     ]
    }
   ],
   "source": [
    "# Keep looping until a condition is True\n",
    "a = 100\n",
    "while a > 50:\n",
    "  print(a)\n",
    "  a -= 10 # == a = a - 10"
   ]
  },
  {
   "cell_type": "markdown",
   "metadata": {
    "id": "gAvJrIoLnCbH"
   },
   "source": [
    "# Functions and Classes "
   ]
  },
  {
   "cell_type": "markdown",
   "metadata": {},
   "source": [
    "## Functions\n",
    "Throughout this notebook we have relied on various built-in functions, e.g., `print`, `any`, `all`, `enumerate`. But as with any good programming language, Python allows you to create your own functions. In general, if you are going to running a section of code more than once, it is good to define a function so that the logic can be reused, especially if it's a long or complicated operation you are trying to do."
   ]
  },
  {
   "cell_type": "markdown",
   "metadata": {},
   "source": [
    "For now, we'll just do an easy example by writing a function that squares every element of an input. You wouldn't need to write such a simple function yourself, but this will demonstrate good coding practice by including error handling and documentation. "
   ]
  },
  {
   "cell_type": "code",
   "execution_count": 64,
   "metadata": {
    "colab": {
     "base_uri": "https://localhost:8080/"
    },
    "executionInfo": {
     "elapsed": 273,
     "status": "ok",
     "timestamp": 1711413930283,
     "user": {
      "displayName": "Galen Egan",
      "userId": "15988556419740321737"
     },
     "user_tz": 420
    },
    "id": "V1X3q2-1nFrk",
    "outputId": "8b953ad0-6a0b-4890-dd0f-f075c08b47a4"
   },
   "outputs": [
    {
     "name": "stdout",
     "output_type": "stream",
     "text": [
      "[1, 2, 3, 4]\n",
      "[1, 4, 9, 16]\n"
     ]
    }
   ],
   "source": [
    "# Use the def keyword to initialize a function block\n",
    "def square_the_input(x):\n",
    "    \"\"\"\n",
    "    Inputs\n",
    "    x: integer, float, or list to be squared\n",
    "\n",
    "    Output\n",
    "    y: square of the input\n",
    "    \"\"\"\n",
    "    if isinstance(x, int) or isinstance(x, float):\n",
    "        y = x ** 2\n",
    "    elif isinstance(x, list):\n",
    "        y = [elem ** 2 for elem in x]\n",
    "    else:\n",
    "        raise TypeError(f\"Input x must be one of: int, float, or list, not {type(x)}\")\n",
    "\n",
    "    return y\n",
    "    \n",
    "some_list = [1, 2, 3, 4]\n",
    "some_list_squared  = square_the_input(some_list)\n",
    "\n",
    "print(some_list)\n",
    "print(some_list_squared)"
   ]
  },
  {
   "cell_type": "code",
   "execution_count": 65,
   "metadata": {
    "scrolled": true
   },
   "outputs": [
    {
     "ename": "TypeError",
     "evalue": "Input x must be one of: int, float, or list, not <class 'dict'>",
     "output_type": "error",
     "traceback": [
      "\u001b[0;31m---------------------------------------------------------------------------\u001b[0m",
      "\u001b[0;31mTypeError\u001b[0m                                 Traceback (most recent call last)",
      "Cell \u001b[0;32mIn[65], line 3\u001b[0m\n\u001b[1;32m      1\u001b[0m \u001b[38;5;66;03m# Trying with a dictionary\u001b[39;00m\n\u001b[1;32m      2\u001b[0m some_dict \u001b[38;5;241m=\u001b[39m {\u001b[38;5;241m0\u001b[39m: \u001b[38;5;124m\"\u001b[39m\u001b[38;5;124ma\u001b[39m\u001b[38;5;124m\"\u001b[39m, \u001b[38;5;241m1\u001b[39m: \u001b[38;5;124m\"\u001b[39m\u001b[38;5;124mb\u001b[39m\u001b[38;5;124m\"\u001b[39m}\n\u001b[0;32m----> 3\u001b[0m \u001b[43msquare_the_input\u001b[49m\u001b[43m(\u001b[49m\u001b[43msome_dict\u001b[49m\u001b[43m)\u001b[49m\n",
      "Cell \u001b[0;32mIn[64], line 15\u001b[0m, in \u001b[0;36msquare_the_input\u001b[0;34m(x)\u001b[0m\n\u001b[1;32m     13\u001b[0m     y \u001b[38;5;241m=\u001b[39m [elem \u001b[38;5;241m*\u001b[39m\u001b[38;5;241m*\u001b[39m \u001b[38;5;241m2\u001b[39m \u001b[38;5;28;01mfor\u001b[39;00m elem \u001b[38;5;129;01min\u001b[39;00m x]\n\u001b[1;32m     14\u001b[0m \u001b[38;5;28;01melse\u001b[39;00m:\n\u001b[0;32m---> 15\u001b[0m     \u001b[38;5;28;01mraise\u001b[39;00m \u001b[38;5;167;01mTypeError\u001b[39;00m(\u001b[38;5;124mf\u001b[39m\u001b[38;5;124m\"\u001b[39m\u001b[38;5;124mInput x must be one of: int, float, or list, not \u001b[39m\u001b[38;5;132;01m{\u001b[39;00m\u001b[38;5;28mtype\u001b[39m(x)\u001b[38;5;132;01m}\u001b[39;00m\u001b[38;5;124m\"\u001b[39m)\n\u001b[1;32m     17\u001b[0m \u001b[38;5;28;01mreturn\u001b[39;00m y\n",
      "\u001b[0;31mTypeError\u001b[0m: Input x must be one of: int, float, or list, not <class 'dict'>"
     ]
    }
   ],
   "source": [
    "# Trying with a dictionary\n",
    "some_dict = {0: \"a\", 1: \"b\"}\n",
    "square_the_input(some_dict)"
   ]
  },
  {
   "cell_type": "markdown",
   "metadata": {},
   "source": [
    "## Classes\n",
    "Python Classes are an example of object-oriented programming: a paradigm where related bits of code and functionality are grouped together on objects, which can be initialized and used more intuitively than a bunch of disparate functions scattered throughout your code base. You won't have to define many of your own classes in this course, but many packages we rely on (`scikit-learn` and `pandas` in particular) rely heavily on their own custom Class objects, so it is worth understanding the building blocks. Let's define a simple custom class to demonstrate their various attributes. "
   ]
  },
  {
   "cell_type": "code",
   "execution_count": 88,
   "metadata": {},
   "outputs": [],
   "source": [
    "class Dog: # by convention, classes are named with Capital letters\n",
    "\n",
    "    \"\"\"\n",
    "    This __init__ function defines how you initialize an instance of the Dog class. By convention, the first argument is always\n",
    "    a sorta dummy variable called \"self\", which refers to the instance of the class you are initializing. The other arguments\n",
    "    are things that you can optionally specify when you initialize an instance of the class in order to define its particular\n",
    "    characteristics.\n",
    "    \"\"\"\n",
    "    def __init__(self, name=\"Lassie\", breed=\"Rough Collie\", owner=\"Miller Family\", friendly=True):\n",
    "        # These characteristics attached to the class are called \"attributes\"\n",
    "        self.name = name\n",
    "        self.breed = breed\n",
    "        self.friendly = friendly\n",
    "\n",
    "    # Functions associated with a class are called \"methods\", and they can be accessed from any instance of the class\n",
    "    # We need to pass in self as an argument, which again refers to an instance of the class\n",
    "    def is_friendly(self):\n",
    "        return self.friendly\n",
    "\n",
    "    def name_and_breed(self):\n",
    "        print(f\"{self.name}, {self.breed}\")"
   ]
  },
  {
   "cell_type": "markdown",
   "metadata": {},
   "source": [
    "Let's initialize an instance of the default dog class, and see how to work with it:"
   ]
  },
  {
   "cell_type": "code",
   "execution_count": 81,
   "metadata": {},
   "outputs": [],
   "source": [
    "default_dog = Dog()"
   ]
  },
  {
   "cell_type": "markdown",
   "metadata": {},
   "source": [
    "We can access the attributes by doing `class_instance.attribute`"
   ]
  },
  {
   "cell_type": "code",
   "execution_count": 82,
   "metadata": {},
   "outputs": [
    {
     "name": "stdout",
     "output_type": "stream",
     "text": [
      "Lassie\n",
      "Rough Collie\n",
      "True\n"
     ]
    }
   ],
   "source": [
    "print(default_dog.name)\n",
    "print(default_dog.breed)\n",
    "print(default_dog.friendly)"
   ]
  },
  {
   "cell_type": "markdown",
   "metadata": {},
   "source": [
    "And we can call any of the methods associated with the class:"
   ]
  },
  {
   "cell_type": "code",
   "execution_count": 83,
   "metadata": {},
   "outputs": [
    {
     "name": "stdout",
     "output_type": "stream",
     "text": [
      "Lassie, Rough Collie\n"
     ]
    }
   ],
   "source": [
    "default_dog.name_and_breed()"
   ]
  },
  {
   "cell_type": "markdown",
   "metadata": {},
   "source": [
    "The real power of Classes, though, is that you can use them as a framework to initialize your own object with its own properties, and call all the same methods on that object. Here is an example of how I would initialize the `Dog` class for one of my dogs:"
   ]
  },
  {
   "cell_type": "code",
   "execution_count": 89,
   "metadata": {},
   "outputs": [],
   "source": [
    "my_dog = Dog(name=\"Mandy\", breed=\"Great Pyrenees\", friendly=False, owner=\"Galen Egan\")"
   ]
  },
  {
   "cell_type": "code",
   "execution_count": 94,
   "metadata": {
    "scrolled": true
   },
   "outputs": [
    {
     "name": "stdout",
     "output_type": "stream",
     "text": [
      "False\n"
     ]
    }
   ],
   "source": [
    "print(my_dog.friendly)"
   ]
  },
  {
   "cell_type": "code",
   "execution_count": 92,
   "metadata": {},
   "outputs": [
    {
     "name": "stdout",
     "output_type": "stream",
     "text": [
      "Mandy, Great Pyrenees\n"
     ]
    }
   ],
   "source": [
    "my_dog.name_and_breed()"
   ]
  }
 ],
 "metadata": {
  "colab": {
   "provenance": []
  },
  "kernelspec": {
   "display_name": "Python 3 (ipykernel)",
   "language": "python",
   "name": "python3"
  },
  "language_info": {
   "codemirror_mode": {
    "name": "ipython",
    "version": 3
   },
   "file_extension": ".py",
   "mimetype": "text/x-python",
   "name": "python",
   "nbconvert_exporter": "python",
   "pygments_lexer": "ipython3",
   "version": "3.9.10"
  }
 },
 "nbformat": 4,
 "nbformat_minor": 4
}
