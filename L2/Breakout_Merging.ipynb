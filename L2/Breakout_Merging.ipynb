{
 "cells": [
  {
   "cell_type": "markdown",
   "id": "ef77f5b6-677f-4856-bd62-ad52230cf78b",
   "metadata": {},
   "source": [
    "# Breakout: Merging and Saving Dataframes\n",
    "The goal of this breakout is to give you practice merging `pandas` DataFrame objects using relational database logic."
   ]
  },
  {
   "cell_type": "markdown",
   "id": "3a105848-8b0e-41fd-9412-df17cc4cc21d",
   "metadata": {},
   "source": [
    "# Merging"
   ]
  },
  {
   "cell_type": "code",
   "execution_count": null,
   "id": "95586ef3-52ec-4ae4-92db-d614bc3ea319",
   "metadata": {},
   "outputs": [],
   "source": [
    "import pandas as pd\n",
    "left = pd.DataFrame({'key': ['K0', 'K1', 'K2', 'K3'],\n",
    "                     'A': ['A0', 'A1', 'A2', 'A3'],\n",
    "                     'B': ['B0', 'B1', 'B2', 'B3']})\n",
    "   \n",
    "right = pd.DataFrame({'key': ['K0', 'K1', 'K2', 'K3'],\n",
    "                          'C': ['C0', 'C1', 'C2', 'C3'],\n",
    "                          'D': ['D0', 'D1', 'D2', 'D3']})   "
   ]
  },
  {
   "cell_type": "code",
   "execution_count": null,
   "id": "c3c1da29-2c4a-4dfe-9cf8-a935d4e3fd12",
   "metadata": {
    "scrolled": true
   },
   "outputs": [],
   "source": [
    "left"
   ]
  },
  {
   "cell_type": "code",
   "execution_count": null,
   "id": "023d053d-aab6-4d16-b03d-07aec5c31e19",
   "metadata": {},
   "outputs": [],
   "source": [
    "right"
   ]
  },
  {
   "cell_type": "markdown",
   "id": "5ef0bfcf-e1d5-4478-8687-f96508b7a5e3",
   "metadata": {},
   "source": [
    "Merge the dataframes `left` and `right` on their shared key. Discuss the output with your neighbor to make sure you understand what the code is doing. "
   ]
  },
  {
   "cell_type": "code",
   "execution_count": null,
   "id": "441007d2-450e-473f-a097-af3bf0141b49",
   "metadata": {},
   "outputs": [],
   "source": []
  },
  {
   "cell_type": "code",
   "execution_count": null,
   "id": "d5e40975-d094-4cbb-80a2-77d4e99d21d7",
   "metadata": {
    "scrolled": true
   },
   "outputs": [],
   "source": []
  },
  {
   "cell_type": "code",
   "execution_count": null,
   "id": "d9b16597-454a-4595-bc5d-e67aca543e6e",
   "metadata": {},
   "outputs": [],
   "source": [
    "left = pd.DataFrame({'key1': ['K0', 'K0', 'K1', 'K2'],\n",
    "                     'key2': ['K0', 'K1', 'K0', 'K1'],\n",
    "                        'A': ['A0', 'A1', 'A2', 'A3'],\n",
    "                        'B': ['B0', 'B1', 'B2', 'B3']})\n",
    "    \n",
    "right = pd.DataFrame({'key1': ['K0', 'K1', 'K1', 'K2'],\n",
    "                               'key2': ['K0', 'K0', 'K0', 'K0'],\n",
    "                                  'C': ['C0', 'C1', 'C2', 'C3'],\n",
    "                                  'D': ['D0', 'D1', 'D2', 'D3']})"
   ]
  },
  {
   "cell_type": "code",
   "execution_count": null,
   "id": "21915d75-a774-4bbd-aa6f-7016b61e6d1a",
   "metadata": {},
   "outputs": [],
   "source": [
    "left"
   ]
  },
  {
   "cell_type": "code",
   "execution_count": null,
   "id": "1f8592db-e3d1-42d4-b6e7-fdbc3f83a8ff",
   "metadata": {
    "scrolled": true
   },
   "outputs": [],
   "source": [
    "right"
   ]
  },
  {
   "cell_type": "markdown",
   "id": "1b6de24a-84ae-4daa-9444-8b5c50bf5c1d",
   "metadata": {},
   "source": [
    "Sometimes we will want to merge on more than one key. Try merging these two new dataframes by passing in a list of common keys to the `on` argument. Start with an inner join, and discuss the output with your neighbor. Which values of `key1` and `key2` are retained? Which are dropped?"
   ]
  },
  {
   "cell_type": "code",
   "execution_count": null,
   "id": "8bd1130a-9f74-431f-abb6-2885a767adbc",
   "metadata": {},
   "outputs": [],
   "source": []
  },
  {
   "cell_type": "code",
   "execution_count": null,
   "id": "cc2cf44f-cdba-44f8-a174-eabfd87311ec",
   "metadata": {
    "scrolled": true
   },
   "outputs": [],
   "source": []
  },
  {
   "cell_type": "markdown",
   "id": "bf2a96a9-dbbc-47ba-bcf5-22dbef12b02e",
   "metadata": {},
   "source": [
    "Now do the same thing, but with an outer join, left join, and right join. Discuss each. "
   ]
  },
  {
   "cell_type": "code",
   "execution_count": null,
   "id": "d7ed013b-e9fd-4d88-937f-66eb07821c9c",
   "metadata": {},
   "outputs": [],
   "source": []
  },
  {
   "cell_type": "code",
   "execution_count": null,
   "id": "b5e4c451-5a92-47bb-a286-43c0b675696f",
   "metadata": {},
   "outputs": [],
   "source": []
  },
  {
   "cell_type": "code",
   "execution_count": null,
   "id": "ccfffe9b-342d-444e-b996-b3814ce7320a",
   "metadata": {},
   "outputs": [],
   "source": []
  },
  {
   "cell_type": "code",
   "execution_count": null,
   "id": "2d54b243-e5c7-47c5-8497-c0cb7515c240",
   "metadata": {},
   "outputs": [],
   "source": []
  },
  {
   "cell_type": "code",
   "execution_count": null,
   "id": "cfec5409-f105-442b-a24c-a7790fd9ebe4",
   "metadata": {},
   "outputs": [],
   "source": []
  },
  {
   "cell_type": "code",
   "execution_count": null,
   "id": "ae246637-a806-4e69-8a00-cf1e9a74307e",
   "metadata": {
    "scrolled": true
   },
   "outputs": [],
   "source": []
  },
  {
   "cell_type": "markdown",
   "id": "ccd48d2e-b4a2-4f7d-b46d-c89ba7609bdf",
   "metadata": {},
   "source": [
    "# Saving DataFrames\n",
    "Save your most recent dataframe using the `.to_csv()` method. Open the resulting `.csv` to confirm that it looks like you expect. "
   ]
  },
  {
   "cell_type": "code",
   "execution_count": null,
   "id": "cb122417-4f59-4fc3-8394-c65d854964c4",
   "metadata": {},
   "outputs": [],
   "source": []
  }
 ],
 "metadata": {
  "kernelspec": {
   "display_name": "Python 3 (ipykernel)",
   "language": "python",
   "name": "python3"
  },
  "language_info": {
   "codemirror_mode": {
    "name": "ipython",
    "version": 3
   },
   "file_extension": ".py",
   "mimetype": "text/x-python",
   "name": "python",
   "nbconvert_exporter": "python",
   "pygments_lexer": "ipython3",
   "version": "3.9.10"
  }
 },
 "nbformat": 4,
 "nbformat_minor": 5
}
