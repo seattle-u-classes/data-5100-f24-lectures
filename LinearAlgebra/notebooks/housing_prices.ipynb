{
 "cells": [
  {
   "cell_type": "code",
   "execution_count": null,
   "id": "initial_id",
   "metadata": {
    "ExecuteTime": {
     "end_time": "2024-10-29T22:43:33.376202Z",
     "start_time": "2024-10-29T22:43:33.373312Z"
    }
   },
   "outputs": [],
   "source": [
    "import matplotlib.pyplot as plt\n",
    "import numpy as np\n",
    "import pandas as pd\n",
    "from sklearn.linear_model import LinearRegression"
   ]
  },
  {
   "cell_type": "code",
   "execution_count": null,
   "id": "822f65b446107015",
   "metadata": {
    "ExecuteTime": {
     "end_time": "2024-10-29T22:42:15.484399Z",
     "start_time": "2024-10-29T22:42:15.481563Z"
    },
    "collapsed": false,
    "jupyter": {
     "outputs_hidden": false
    }
   },
   "outputs": [],
   "source": [
    "params = {\n",
    "    \"axes.labelsize\": 16,\n",
    "    \"font.size\": 16,\n",
    "    \"legend.fontsize\": 14,\n",
    "    \"xtick.labelsize\": 16,\n",
    "    \"ytick.labelsize\": 16,\n",
    "    \"font.family\": \"sans-serif\",\n",
    "    \"axes.grid\": False,\n",
    "}\n",
    "plt.rcParams.update(params)"
   ]
  },
  {
   "cell_type": "code",
   "execution_count": null,
   "id": "9869da8b94de510c",
   "metadata": {
    "ExecuteTime": {
     "end_time": "2024-10-29T22:42:15.495232Z",
     "start_time": "2024-10-29T22:42:15.485491Z"
    },
    "collapsed": false,
    "jupyter": {
     "outputs_hidden": false
    }
   },
   "outputs": [],
   "source": [
    "df = pd.read_csv(\"data/housing_data.txt\")\n",
    "area = df.iloc[:, 0].values.reshape(-1, 1)\n",
    "beds = df.iloc[:, 1].values.reshape(-1, 1)\n",
    "price = df.iloc[:, 2].values.reshape(-1, 1)"
   ]
  },
  {
   "cell_type": "code",
   "execution_count": null,
   "id": "b458fce2dd8b16f8",
   "metadata": {
    "ExecuteTime": {
     "end_time": "2024-10-29T22:43:57.621406Z",
     "start_time": "2024-10-29T22:43:57.567557Z"
    },
    "collapsed": false,
    "jupyter": {
     "outputs_hidden": false
    }
   },
   "outputs": [],
   "source": [
    "fig, ax = plt.subplots()\n",
    "ax.plot(area, price, 'o')\n",
    "ax.set_xlabel(r\"Area (ft$^2$)\")\n",
    "ax.set_ylabel(r\"Sale Price ($)\")\n",
    "ax.set_title(\"Portland, OR Home Sales\")\n",
    "fig.set_size_inches(5, 4)\n",
    "fig.tight_layout(pad=0.5)"
   ]
  },
  {
   "cell_type": "code",
   "execution_count": null,
   "id": "957598b368c897aa",
   "metadata": {
    "ExecuteTime": {
     "end_time": "2024-10-29T22:44:32.612121Z",
     "start_time": "2024-10-29T22:44:32.561578Z"
    },
    "collapsed": false,
    "jupyter": {
     "outputs_hidden": false
    }
   },
   "outputs": [],
   "source": [
    "fig, ax = plt.subplots()\n",
    "ax.plot(beds, price, 'o')\n",
    "ax.set_xlabel(r\"Number of Bedrooms\")\n",
    "ax.set_ylabel(r\"Sale Price ($)\")\n",
    "ax.set_title(\"Portland, OR Home Sales\")\n",
    "fig.set_size_inches(5, 4)\n",
    "fig.tight_layout(pad=0.5)\n",
    "plt.show()"
   ]
  },
  {
   "cell_type": "markdown",
   "id": "c5c89ab69cfe3ee4",
   "metadata": {
    "collapsed": false,
    "jupyter": {
     "outputs_hidden": false
    }
   },
   "source": [
    "Solving the least squares problem using matrix math:"
   ]
  },
  {
   "cell_type": "code",
   "execution_count": null,
   "id": "2e79dea229f46286",
   "metadata": {
    "ExecuteTime": {
     "end_time": "2024-10-29T22:46:59.501437Z",
     "start_time": "2024-10-29T22:46:59.496053Z"
    },
    "collapsed": false,
    "jupyter": {
     "outputs_hidden": false
    }
   },
   "outputs": [],
   "source": [
    "A = np.hstack((np.ones_like(area), area, beds))\n",
    "b = price\n",
    "x = np.matmul(np.linalg.inv(np.matmul(A.T, A)), np.matmul(A.T, b))"
   ]
  },
  {
   "cell_type": "code",
   "execution_count": null,
   "id": "b7118935fe9ff6a6",
   "metadata": {
    "ExecuteTime": {
     "end_time": "2024-10-29T22:47:06.240080Z",
     "start_time": "2024-10-29T22:47:06.223478Z"
    },
    "collapsed": false,
    "jupyter": {
     "outputs_hidden": false
    }
   },
   "outputs": [],
   "source": [
    "x"
   ]
  },
  {
   "cell_type": "markdown",
   "id": "47429e84c0121610",
   "metadata": {
    "collapsed": false,
    "jupyter": {
     "outputs_hidden": false
    }
   },
   "source": [
    "And with a much more standard approach:"
   ]
  },
  {
   "cell_type": "code",
   "execution_count": null,
   "id": "51efde5c83f24e2e",
   "metadata": {
    "ExecuteTime": {
     "end_time": "2024-10-29T22:48:32.055035Z",
     "start_time": "2024-10-29T22:48:32.050796Z"
    },
    "collapsed": false,
    "jupyter": {
     "outputs_hidden": false
    }
   },
   "outputs": [],
   "source": [
    "X = np.hstack((area, beds))\n",
    "y = price\n",
    "model = LinearRegression().fit(X, y)"
   ]
  },
  {
   "cell_type": "code",
   "execution_count": null,
   "id": "baa3e6c7655d0609",
   "metadata": {
    "ExecuteTime": {
     "end_time": "2024-10-29T22:48:43.587184Z",
     "start_time": "2024-10-29T22:48:43.580187Z"
    },
    "collapsed": false,
    "jupyter": {
     "outputs_hidden": false
    }
   },
   "outputs": [],
   "source": [
    "model.coef_"
   ]
  },
  {
   "cell_type": "code",
   "execution_count": null,
   "id": "593d73599b06133c",
   "metadata": {
    "ExecuteTime": {
     "end_time": "2024-10-29T22:48:47.810405Z",
     "start_time": "2024-10-29T22:48:47.803173Z"
    },
    "collapsed": false,
    "jupyter": {
     "outputs_hidden": false
    }
   },
   "outputs": [],
   "source": [
    "model.intercept_"
   ]
  },
  {
   "cell_type": "markdown",
   "id": "fabf018f3f295fe1",
   "metadata": {
    "collapsed": false,
    "jupyter": {
     "outputs_hidden": false
    }
   },
   "source": [
    "Plotting results"
   ]
  },
  {
   "cell_type": "code",
   "execution_count": null,
   "id": "90f6760314691ace",
   "metadata": {
    "ExecuteTime": {
     "end_time": "2024-10-29T23:20:07.291573Z",
     "start_time": "2024-10-29T23:20:07.219555Z"
    },
    "collapsed": false,
    "jupyter": {
     "outputs_hidden": false
    }
   },
   "outputs": [],
   "source": [
    "ypred = model.predict(X)\n",
    "one = np.linspace(np.nanmin(y), np.nanmax(y), 100)\n",
    "mae = np.nanmean(np.abs(ypred - y))\n",
    "\n",
    "fig, ax = plt.subplots()\n",
    "ax.plot(ypred, y, 'o')\n",
    "ax.plot(one, one, '-', linewidth=3, label=f\"Mean abs. error = \\${int(mae)}\")\n",
    "ax.set_xlabel(r\"Predicted Price ($)\")\n",
    "ax.set_ylabel(r\"Actual Price ($)\")\n",
    "ax.legend()\n",
    "fig.set_size_inches(6, 5)\n",
    "plt.ticklabel_format(axis='both', style='sci', scilimits=(0,0))\n",
    "fig.tight_layout(pad=0.5)\n",
    "plt.show()\n"
   ]
  }
 ],
 "metadata": {
  "kernelspec": {
   "display_name": "Python 3 (ipykernel)",
   "language": "python",
   "name": "python3"
  },
  "language_info": {
   "codemirror_mode": {
    "name": "ipython",
    "version": 3
   },
   "file_extension": ".py",
   "mimetype": "text/x-python",
   "name": "python",
   "nbconvert_exporter": "python",
   "pygments_lexer": "ipython3",
   "version": "3.9.10"
  }
 },
 "nbformat": 4,
 "nbformat_minor": 5
}
