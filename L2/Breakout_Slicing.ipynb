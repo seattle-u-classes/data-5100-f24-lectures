{
 "cells": [
  {
   "cell_type": "markdown",
   "id": "9d950be0-db65-494b-a343-2ea7c335c2d0",
   "metadata": {},
   "source": [
    "# Breakout: Slicing\n",
    "The purpose of this breakout is to give you some practice slicing specific data out of pandas DataFrame objects. We'll continue working with the Iris dataset for the moment. "
   ]
  },
  {
   "cell_type": "markdown",
   "id": "59417a00-5a9c-468a-8f2f-4dd97ea3b36e",
   "metadata": {},
   "source": [
    "## Loading the data\n",
    "A copy of the dataset is at `https://raw.githubusercontent.com/mwaskom/seaborn-data/master/iris.csv`. Import pandas and load in the data in the cell below"
   ]
  },
  {
   "cell_type": "code",
   "execution_count": 1,
   "id": "4f7b039c-e8f2-4760-9f3f-3feb853fadfe",
   "metadata": {},
   "outputs": [],
   "source": [
    "import pandas as pd\n",
    "df = pd.read_csv(\"https://raw.githubusercontent.com/mwaskom/seaborn-data/master/iris.csv\")"
   ]
  },
  {
   "cell_type": "markdown",
   "id": "81886274-cd6b-4880-bb44-3cc383fd237d",
   "metadata": {},
   "source": [
    "## Logical slicing\n",
    "We saw that you can select data based on column name and/or index values. But another useful feature is selecting data based on some logical condition. This usually looks like: `df_subset = df.loc[logical_condition, column_names]`, where `logical_condition` is an array of the same length as the dataframe index, but all the elements are either `True` or `False`. You can create such an array easily in pandas, all you need to do is relate part of your dataframe to some value with a logical operator. For example:"
   ]
  },
  {
   "cell_type": "code",
   "execution_count": 18,
   "id": "1c66e9e2-213d-45b5-9c4a-2fbf680da6d0",
   "metadata": {},
   "outputs": [
    {
     "name": "stdout",
     "output_type": "stream",
     "text": [
      "0       True\n",
      "1       True\n",
      "2       True\n",
      "3       True\n",
      "4       True\n",
      "       ...  \n",
      "145    False\n",
      "146    False\n",
      "147    False\n",
      "148    False\n",
      "149    False\n",
      "Name: species, Length: 150, dtype: bool\n"
     ]
    }
   ],
   "source": [
    "logical_condition = df[\"species\"] == \"setosa\"\n",
    "print(logical_condition)"
   ]
  },
  {
   "cell_type": "markdown",
   "id": "f34d43c2-5fe7-42a6-ad53-55213c7b40ab",
   "metadata": {},
   "source": [
    "Try this out for yourself with another column or set of columns, and some logical condition that you apply to those columns to make sure you understand how to create a logical array. If you chain multiple conditions together you should use ample parenthese `()` to keep the logic clear. "
   ]
  },
  {
   "cell_type": "code",
   "execution_count": null,
   "id": "34b1435a-b3e4-4b37-bdfc-7f7213645ec2",
   "metadata": {},
   "outputs": [],
   "source": []
  },
  {
   "cell_type": "markdown",
   "id": "34bfc6b9-815d-4e0c-8740-1445f73e6365",
   "metadata": {},
   "source": [
    "In the cell below, create a new dataframe that only contains rows where the species is `versicolor` or `virginica`"
   ]
  },
  {
   "cell_type": "markdown",
   "id": "d803b9fd-b2af-4a5f-804a-74f81c8921e6",
   "metadata": {},
   "source": []
  },
  {
   "cell_type": "markdown",
   "id": "7e8a2d18-9fd3-409e-aa75-afc74dc43de6",
   "metadata": {},
   "source": [
    "Now create a dataframe that only contains rows where the species is `versicolor` and the petal length is greater than 4.1"
   ]
  },
  {
   "cell_type": "code",
   "execution_count": 10,
   "id": "c3785d7f-3a0e-4aea-b006-e10204b431f9",
   "metadata": {},
   "outputs": [],
   "source": []
  },
  {
   "cell_type": "markdown",
   "id": "fc0b37f9-e976-4cfd-9733-03a6bfef6b8b",
   "metadata": {},
   "source": [
    "Using that versicolor, petal_length > 4.1 DataFrame as a starting point, create a pandas Series that just contains the petal length under those conditions. "
   ]
  },
  {
   "cell_type": "code",
   "execution_count": null,
   "id": "d76d6359-38f2-4477-ad51-5fc09b58cbea",
   "metadata": {},
   "outputs": [],
   "source": []
  },
  {
   "cell_type": "markdown",
   "id": "3e78a370-e00a-4b89-99b4-8d7d892557ff",
   "metadata": {},
   "source": [
    "## Mixing loc and iloc\n",
    "Sometimes we want to slice by integer index but we prefer to use the column name, rather than the column index. In that situation we can use the `df.columns.get_loc(\"column_name\")` method to find the column index automatically. "
   ]
  },
  {
   "cell_type": "markdown",
   "id": "b4361a33-626e-49a8-8b3a-4b4fd2d74868",
   "metadata": {},
   "source": [
    "Experiment with `df.columns.get_loc` and make sure you understand how it works. Then create a Series using `df.iloc` that contains the final 50 rows of data, and the `sepal_width` column"
   ]
  },
  {
   "cell_type": "code",
   "execution_count": null,
   "id": "caca255c-d95c-46a7-adde-5284e49cc436",
   "metadata": {},
   "outputs": [],
   "source": []
  }
 ],
 "metadata": {
  "kernelspec": {
   "display_name": "Python 3 (ipykernel)",
   "language": "python",
   "name": "python3"
  },
  "language_info": {
   "codemirror_mode": {
    "name": "ipython",
    "version": 3
   },
   "file_extension": ".py",
   "mimetype": "text/x-python",
   "name": "python",
   "nbconvert_exporter": "python",
   "pygments_lexer": "ipython3",
   "version": "3.9.10"
  }
 },
 "nbformat": 4,
 "nbformat_minor": 5
}
